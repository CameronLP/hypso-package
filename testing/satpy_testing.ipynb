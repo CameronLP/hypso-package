{
 "cells": [
  {
   "cell_type": "code",
   "execution_count": 1,
   "id": "45c1f6ef",
   "metadata": {},
   "outputs": [],
   "source": [
    "import os\n",
    "import sys\n",
    "import matplotlib.pyplot as plt\n",
    "from pyproj import CRS\n",
    "from pyresample import geometry\n",
    "import numpy as np\n",
    "import xarray as xr\n",
    "from PIL import Image\n",
    "import copy\n",
    "\n",
    "from skimage import data, img_as_float\n",
    "from skimage import exposure\n",
    "\n",
    "import satpy\n",
    "import satpy.resample\n",
    "\n",
    "from satpy.composites import SingleBandCompositor, GenericCompositor\n",
    "#from trollimage.image import Image\n",
    "from satpy.writers import to_image\n",
    "from trollimage.colormap import greys, gnbu, bugn, greens, orrd, rdylgn, pubugn, ylgn, brbg\n",
    "#from trollimage.image import Image\n",
    "from pycoast import ContourWriterAGG\n",
    "\n",
    "from scipy.signal import find_peaks\n",
    "\n",
    "import glob\n",
    "from satpy import Scene\n",
    "\n",
    "from pyresample.geometry import SwathDefinition\n",
    "\n",
    "sys.path.insert(0, '/home/cameron/Projects/hypso-package')\n",
    "\n",
    "# Import Satellite Object\n",
    "from hypso import Hypso1"
   ]
  },
  {
   "cell_type": "code",
   "execution_count": 2,
   "id": "4da22fb1",
   "metadata": {},
   "outputs": [],
   "source": [
    "if True:\n",
    "    dir_path = '/home/cameron/Dokumenter/Data/frohavet'\n",
    "    nc_file = os.path.join(dir_path, 'frohavet_2024-05-06_1017Z-l1a.nc')\n",
    "    points_file = os.path.join(dir_path, 'frohavet_2024-05-06_1017Z-bin3.points')\n",
    "    cloud_mask_quantile = 0.6\n",
    "    sentinel_3_dir = \"/home/cameron/Dokumenter/Frohavet_Sentinel_3/S3B_OL_2_WFR____20240506T102040_20240506T102340_20240506T122602_0179_092_336_1800_MAR_O_NR_003.SEN3\"\n",
    "\n",
    "if False:\n",
    "    dir_path = '/home/cameron/Dokumenter/Data/erie'\n",
    "    nc_file = os.path.join(dir_path, 'erie_2022-07-20_1539Z-l1a.nc')\n",
    "    points_file = os.path.join(dir_path, 'erie_2022-07-20_1539Z-bin3.points')\n",
    "\n",
    "if False:\n",
    "    dir_path = '/home/cameron/Dokumenter/Data/frohavet'\n",
    "    nc_file = os.path.join(dir_path, 'frohavet_2024-04-26_1049Z-l1a.nc')\n",
    "    points_file = os.path.join(dir_path, 'frohavet_2024-04-26_1049Z-bin3.points')\n",
    "\n",
    "if False:\n",
    "    dir_path = \"/home/cameron/Dokumenter/Data/roervik/\"\n",
    "    nc_file = os.path.join(dir_path, 'roervik_2024-05-05_1039Z-l1a.nc')\n",
    "    points_file = os.path.join(dir_path, 'roervik_2024-05-05_1039Z-bin3.points')\n",
    "    cloud_mask_quantile = 0.85\n",
    "    sentinel_3_dir = \"/home/cameron/Dokumenter/Frohavet_Sentinel_3/S3B_OL_2_WRR____20240505T103843_20240505T112305_20240506T142550_2662_092_322______MAR_O_NT_003.SEN3\"\n",
    "\n",
    "if False:\n",
    "    dir_path = \"/home/cameron/Dokumenter/Data/frohavet/\"\n",
    "    nc_file = os.path.join(dir_path, 'frohavet_2024-04-26_1049Z-l1a.nc')\n",
    "    points_file = os.path.join(dir_path, 'frohavet_2024-04-26_1049Z-bin3.points')\n",
    "    cloud_mask_quantile = 0.5\n",
    "    sentinel_3_dir = \"/home/cameron/Dokumenter/Frohavet_Sentinel_3/S3B_OL_2_WRR____20240426T093209_20240426T101628_20240427T120354_2659_092_193______MAR_O_NT_003.SEN3\"\n"
   ]
  },
  {
   "cell_type": "code",
   "execution_count": null,
   "id": "f51fb661",
   "metadata": {},
   "outputs": [],
   "source": [
    "satobj = Hypso1(hypso_path=nc_file, points_path=points_file, verbose=True)\n",
    "satobj.write_l1a_nc_file()\n",
    "satobj.generate_l1b_cube(compute_destriping_matrix=True)\n",
    "#l1b_scene = satobj.get_l1b_satpy_scene()\n",
    "#satobj.generate_l1b_cube(compute_destriping_matrix=False, overwrite=True)\n",
    "#l1b_scene_2 = satobj.get_l1b_satpy_scene()\n",
    "#satobj.generate_geometry()\n",
    "#satobj.write_l1b_nc_file()\n",
    "#satobj.generate_l2a_cube(product_name='acolite')"
   ]
  },
  {
   "cell_type": "code",
   "execution_count": null,
   "id": "557faeda",
   "metadata": {},
   "outputs": [],
   "source": [
    "satobj.generate_chlorophyll_estimates('band_ratio')"
   ]
  },
  {
   "cell_type": "code",
   "execution_count": null,
   "id": "19557689",
   "metadata": {},
   "outputs": [],
   "source": [
    "#l1a_scene = satobj.get_l1a_satpy_scene()\n",
    "#l1b_scene = satobj.get_l1b_satpy_scene()\n",
    "#l2a_scene = satobj.get_l2a_satpy_scene()\n",
    "#chl_scene = satobj.get_chlorophyll_satpy_scene()\n",
    "products_scene = satobj.get_products_satpy_scene()\n",
    "#satobj.generate_geometry()"
   ]
  },
  {
   "cell_type": "code",
   "execution_count": null,
   "id": "b88b977f",
   "metadata": {},
   "outputs": [],
   "source": [
    "chl_scene['chl_band_ratio']"
   ]
  },
  {
   "cell_type": "code",
   "execution_count": null,
   "id": "ce18da98",
   "metadata": {},
   "outputs": [],
   "source": [
    "satobj.products"
   ]
  },
  {
   "cell_type": "code",
   "execution_count": null,
   "id": "be1aa1c9",
   "metadata": {},
   "outputs": [],
   "source": [
    "satobj.write_l1b_nc_file()"
   ]
  },
  {
   "cell_type": "code",
   "execution_count": null,
   "id": "b93678cb",
   "metadata": {},
   "outputs": [],
   "source": []
  },
  {
   "cell_type": "code",
   "execution_count": null,
   "id": "ca177bd8",
   "metadata": {},
   "outputs": [],
   "source": [
    "original_path = satobj.l1b_nc_file\n",
    "file_name = original_path.name\n",
    "modified_file_name = file_name.replace('-l1b', '-l1b-modified')\n",
    "modified_path = original_path.with_name(modified_file_name)"
   ]
  },
  {
   "cell_type": "code",
   "execution_count": null,
   "id": "8889683d",
   "metadata": {},
   "outputs": [],
   "source": [
    "print(modified_path)"
   ]
  },
  {
   "cell_type": "code",
   "execution_count": null,
   "id": "63a67033",
   "metadata": {},
   "outputs": [],
   "source": [
    "# RGB Hypso image\n",
    "compositor = GenericCompositor(\"rgb\")\n",
    "\n",
    "#R:630nm, G:550nm, B:480nm\n",
    "# Red, Green, Blue, Alpha\n",
    "red_wl = 630\n",
    "green_wl = 550\n",
    "blue_wl = 480\n",
    "\n",
    "red_idx = satobj.get_closest_wavelength_index(red_wl)\n",
    "green_idx = satobj.get_closest_wavelength_index(green_wl)\n",
    "blue_idx = satobj.get_closest_wavelength_index(blue_wl)\n",
    "\n",
    "red_band = 'band_' + str(red_idx)\n",
    "green_band = 'band_' + str(green_idx)\n",
    "blue_band = 'band_' + str(blue_idx)\n",
    "\n",
    "composite = compositor([l1b_scene_1[red_band][:,::3], \n",
    "                        l1b_scene_1[green_band][:,::3], \n",
    "                        l1b_scene_1[blue_band][:,::3], \n",
    "                        l1b_scene_1['band_5'][:,::3]]) \n",
    "\n",
    "rgb_img = to_image(composite) \n",
    "rgb_img.stretch_linear()\n",
    "rgb_img.gamma(2)\n",
    "\n",
    "rgb_xr_image = rgb_img\n",
    "\n",
    "rgb_img = rgb_img.pil_image()\n",
    "\n",
    "rgb_img.save('./' + satobj.capture_name + '_rgb_only_computed.png')"
   ]
  },
  {
   "cell_type": "code",
   "execution_count": null,
   "id": "f6f2bcb4",
   "metadata": {},
   "outputs": [],
   "source": [
    "rgb_img"
   ]
  },
  {
   "cell_type": "code",
   "execution_count": null,
   "id": "4ed1fefe",
   "metadata": {},
   "outputs": [],
   "source": [
    "rgb_img"
   ]
  },
  {
   "cell_type": "code",
   "execution_count": null,
   "id": "f196c2d5",
   "metadata": {},
   "outputs": [],
   "source": [
    "# RGB Hypso image\n",
    "compositor = GenericCompositor(\"rgb\")\n",
    "\n",
    "#R:630nm, G:550nm, B:480nm\n",
    "# Red, Green, Blue, Alpha\n",
    "red_wl = 630\n",
    "green_wl = 550\n",
    "blue_wl = 480\n",
    "\n",
    "red_idx = satobj.get_closest_wavelength_index(red_wl)\n",
    "green_idx = satobj.get_closest_wavelength_index(green_wl)\n",
    "blue_idx = satobj.get_closest_wavelength_index(blue_wl)\n",
    "\n",
    "red_band = 'band_' + str(red_idx)\n",
    "green_band = 'band_' + str(green_idx)\n",
    "blue_band = 'band_' + str(blue_idx)\n",
    "\n",
    "composite = compositor([l1b_scene_2[red_band][:,::3], \n",
    "                        l1b_scene_2[green_band][:,::3], \n",
    "                        l1b_scene_2[blue_band][:,::3], \n",
    "                        l1b_scene_2['band_5'][:,::3]]) \n",
    "\n",
    "rgb_img = to_image(composite) \n",
    "rgb_img.stretch_linear()\n",
    "rgb_img.gamma(2)\n",
    "\n",
    "rgb_xr_image = rgb_img\n",
    "\n",
    "rgb_img = rgb_img.pil_image()\n",
    "\n",
    "rgb_img.save('./' + satobj.capture_name + '_rgb_only_csv.png')"
   ]
  },
  {
   "cell_type": "code",
   "execution_count": null,
   "id": "48bdf11f",
   "metadata": {},
   "outputs": [],
   "source": [
    "rgb_img"
   ]
  },
  {
   "cell_type": "code",
   "execution_count": null,
   "id": "90f3d09d",
   "metadata": {},
   "outputs": [],
   "source": [
    "rgb_img"
   ]
  },
  {
   "cell_type": "code",
   "execution_count": null,
   "id": "3eaa978c",
   "metadata": {},
   "outputs": [],
   "source": [
    "from pyproj import Transformer\n",
    "from pyproj import Proj\n",
    "\n",
    "area_id = satobj.capture_region\n",
    "proj_id = 'roi'\n",
    "description = 'roi'\n",
    "\n",
    "bbox = satobj.get_bbox()\n",
    "lon_0 = (bbox[2] - bbox[0])/2 + bbox[0]\n",
    "lat_ts = (bbox[3] - bbox[1])/2 + bbox[1]\n",
    "\n",
    "p = Proj(proj=\"stere\", ellps=\"bessel\", lat_0=90.0, lon_0=lon_0, lat_ts=lat_ts)\n",
    "#Transformer.from_proj\n",
    "#p(12.06, 65.26)\n",
    "#p(-100000, -2950000, inverse=True)\n",
    "\n",
    "projection = {\"proj\": \"stere\", \n",
    "              \"ellps\": \"bessel\", \n",
    "              \"lat_0\": 90.0, \n",
    "              \"lon_0\": lon_0, \n",
    "              \"lat_ts\": lat_ts, \n",
    "              \"units\": \"m\"}\n",
    "\n",
    "#projection = CRS.from_proj4(\"+proj=latlon\")\n",
    "#projection = p.to_proj4()\n",
    "\n",
    "swath_def = SwathDefinition(lons=satobj.longitudes, lats=satobj.latitudes)\n",
    "projection = swath_def.compute_bb_proj_params(proj_dict=projection)\n",
    "\n",
    "lower_left_x, lower_left_y = p(bbox[0], bbox[1])\n",
    "upper_right_x, upper_right_y = p(bbox[2], bbox[3])\n",
    "area_extent = (lower_left_x, lower_left_y, upper_right_x, upper_right_y)\n",
    "\n",
    "res = 300 #meters\n",
    "\n",
    "width = (area_extent[2] - area_extent[0]) / res\n",
    "height = (area_extent[3] - area_extent[1]) / res\n",
    "\n",
    "area_def = geometry.AreaDefinition(area_id, proj_id, description, projection,  width, height, area_extent)\n",
    "\n",
    "#from pyresample import load_area\n",
    "#area_def = load_area(\"./frohavet.yaml\")"
   ]
  },
  {
   "cell_type": "code",
   "execution_count": null,
   "id": "ab159855",
   "metadata": {},
   "outputs": [],
   "source": [
    "resampled_chl_scene = None\n",
    "resampled_l1a_scene = None\n",
    "size = None\n",
    "\n",
    "resampled_l1a_scene = l1b_scene.resample(area_def, resampler='bilinear', fill_value=np.NaN)\n",
    "#resampled_l1b_scene = l1b_scene.resample(area_def, resampler='bilinear', fill_value=np.NaN)\n",
    "#resampled_chl_scene = chl_scene.resample(area_def, resampler='bilinear', fill_value=np.NaN)"
   ]
  },
  {
   "cell_type": "code",
   "execution_count": null,
   "id": "59b74282",
   "metadata": {},
   "outputs": [],
   "source": [
    "size = (area_def.shape[1], area_def.shape[0])\n",
    "\n",
    "# Base image\n",
    "base_img = Image.new(mode=\"RGBA\", size=size, color=(173, 216, 230))\n",
    "cw = ContourWriterAGG('/home/cameron/Dokumenter/Pycoast')\n",
    "cw.add_coastlines(base_img, area_def, resolution='f', outline='black', fill='gray')\n",
    "\n",
    "# Overlay image\n",
    "overlay_img = Image.new(mode=\"RGBA\", size=size)\n",
    "cw = ContourWriterAGG('/home/cameron/Dokumenter/Pycoast')\n",
    "cw.add_coastlines(overlay_img, area_def, resolution='f', outline='black', level=4)\n",
    "cw.add_rivers(overlay_img, area_def, level=10, outline='blue', resolution='f')\n",
    "#cw.add_borders(overlay_img, area_def, outline=(255, 0, 0))\n",
    "\n",
    "\n",
    "boundary_lats, boundary_lons = swath_def.get_boundary_lonlats()\n",
    "\n",
    "side1 = tuple((lat, lon) for lat, lon in zip(boundary_lats.side1, boundary_lons.side1))\n",
    "side2 = tuple((lat, lon) for lat, lon in zip(boundary_lats.side2, boundary_lons.side2))\n",
    "side3 = tuple((lat, lon) for lat, lon in zip(boundary_lats.side3, boundary_lons.side3))\n",
    "side4 = tuple((lat, lon) for lat, lon in zip(boundary_lats.side4, boundary_lons.side4))\n",
    "\n",
    "polygon_coords = side1 + side2 + side3 + side4\n",
    "\n",
    "#from shapely import Polygon\n",
    "#polygon = Polygon(polygon_coords)\n",
    "\n",
    "# Overlay image\n",
    "boundary_img = Image.new(mode=\"RGBA\", size=size)\n",
    "cw = ContourWriterAGG('/home/cameron/Dokumenter/Pycoast')\n",
    "cw.add_polygon(boundary_img, area_def, polygon_coords, outline='red', width=3)"
   ]
  },
  {
   "cell_type": "code",
   "execution_count": null,
   "id": "a7931996",
   "metadata": {},
   "outputs": [],
   "source": [
    "# RGB Hypso image\n",
    "compositor = GenericCompositor(\"rgb\")\n",
    "\n",
    "#R:630nm, G:550nm, B:480nm\n",
    "# Red, Green, Blue, Alpha\n",
    "red_wl = 630\n",
    "green_wl = 550\n",
    "blue_wl = 480\n",
    "\n",
    "red_idx = satobj.get_closest_wavelength_index(red_wl)\n",
    "green_idx = satobj.get_closest_wavelength_index(green_wl)\n",
    "blue_idx = satobj.get_closest_wavelength_index(blue_wl)\n",
    "\n",
    "red_band = 'band_' + str(red_idx)\n",
    "green_band = 'band_' + str(green_idx)\n",
    "blue_band = 'band_' + str(blue_idx)\n",
    "\n",
    "composite = compositor([resampled_l1a_scene[red_band], \n",
    "                        resampled_l1a_scene[green_band], \n",
    "                        resampled_l1a_scene[blue_band], \n",
    "                        resampled_l1a_scene['band_5']]) \n",
    "\n",
    "rgb_img = to_image(composite) \n",
    "rgb_img.stretch_linear()\n",
    "rgb_img.gamma(2)\n",
    "\n",
    "rgb_xr_image = rgb_img\n",
    "\n",
    "rgb_img = rgb_img.pil_image()\n",
    "\n",
    "rgb_img.save('./' + satobj.capture_name + '_rgb_only.png')"
   ]
  },
  {
   "cell_type": "code",
   "execution_count": null,
   "id": "329e1f7a",
   "metadata": {},
   "outputs": [],
   "source": [
    "#plotting_cm = ylgn\n",
    "plotting_cm = bugn"
   ]
  },
  {
   "cell_type": "code",
   "execution_count": null,
   "id": "c50d036a",
   "metadata": {},
   "outputs": [],
   "source": [
    "chl_product = 'chl_band_ratio'\n",
    "#chl_product = 'chl_6sv1_aqua'\n",
    "#chl_min = 0\n",
    "#chl_max = np.nanmax(resampled_chl_scene[chl_product])\n",
    "\n",
    "#chl_product = 'chl_band_ratio'\n",
    "#chl_min = 1.9\n",
    "#chl_max = 2.2\n",
    "\n",
    "#chl_product = 'chl_6sv1_aqua'\n",
    "#chl_min = 0\n",
    "#chl_max = 2\n",
    "\n",
    "resampled_chl_scene['chl_plotted'] = copy.deepcopy(resampled_chl_scene[chl_product])\n",
    "\n",
    "values = None\n",
    "del values\n",
    "values = None\n",
    "\n",
    "values = copy.deepcopy(resampled_chl_scene[chl_product].to_numpy())\n",
    "#values[values<chl_min] = np.nan\n",
    "#values[values>chl_max] = np.nan\n",
    "#values = np.log10(values)\n",
    "#values = 10**values\n",
    "\n",
    "# Contrast stretching\n",
    "if True:\n",
    "    p2, p98 = np.nanpercentile(values, (2, 98))\n",
    "    values = exposure.rescale_intensity(values, in_range=(p2, p98))\n",
    "\n",
    "# Equalization\n",
    "if False:\n",
    "    mask = np.isnan(values)\n",
    "    values = exposure.equalize_hist(values, mask=~mask)\n",
    "\n",
    "# Adaptive Equalization\n",
    "if False:\n",
    "\n",
    "    # Scale between -1 and 1\n",
    "    values = 2 * (values - np.nanmin(values)) / (np.nanmax(values) - np.nanmin(values)) - 1\n",
    "\n",
    "    # Create a mask for NaN values\n",
    "    nan_mask = np.isnan(values)\n",
    "\n",
    "    # Fill NaN values with a neutral value (e.g., the mean of the non-NaN elements)\n",
    "    values_no_nan = np.copy(values)\n",
    "    mean_value = np.nanmean(values_no_nan)\n",
    "    values_no_nan[nan_mask] = mean_value\n",
    "\n",
    "    # Apply adaptive histogram equalization\n",
    "    values_eq = exposure.equalize_adapthist(values_no_nan, clip_limit=0.01)\n",
    "\n",
    "    # Reapply the NaN mask to the equalized image\n",
    "    values_eq[nan_mask] = np.nan\n",
    "\n",
    "    values = values_eq\n",
    "\n",
    "if False:\n",
    "    from skimage.filters.rank import mean\n",
    "    from skimage.morphology import disk\n",
    "\n",
    "    # Create a mask for NaN values\n",
    "    nan_mask = np.isnan(values)\n",
    "\n",
    "    # Fill NaN values with a neutral value (e.g., the mean of the non-NaN elements)\n",
    "    values_no_nan = np.copy(values)\n",
    "    mean_value = np.nanmean(values_no_nan)\n",
    "    values_no_nan[nan_mask] = mean_value\n",
    "    values_smoothed = mean(values_no_nan, disk(7))\n",
    "    values_smoothed = values_smoothed.astype('float')\n",
    "    values_smoothed[nan_mask] = np.nan\n",
    "    values = values_smoothed\n",
    "\n",
    "\n",
    "values = (values - np.nanmin(values)) / (np.nanmax(values) - np.nanmin(values)) \n",
    "#values = 2 * (values - np.nanmin(values)) / (np.nanmax(values) - np.nanmin(values)) - 1\n",
    "\n",
    "resampled_chl_scene['chl_plotted'].values = values\n",
    "\n",
    "#chl_min = 0.2\n",
    "#chl_max = 1.2\n",
    "\n",
    "#chl_min = 0.1\n",
    "#chl_max = 1.1\n",
    "\n",
    "chl_min = 0\n",
    "chl_max = 1.1\n",
    "\n",
    "chl_ds = resampled_chl_scene['chl_plotted']\n",
    "\n",
    "\n",
    "compositor = SingleBandCompositor('chl')\n",
    "composite = compositor([chl_ds])\n",
    "chl_img = to_image(composite) \n",
    "chl_cm = plotting_cm.set_range(chl_min,chl_max,inplace=False)\n",
    "chl_cm.reverse()\n",
    "chl_img.colorize(chl_cm)\n",
    "chl_img = chl_img.pil_image()\n",
    "\n",
    "\n",
    "chl_img_2 = to_image(composite) \n",
    "chl_cm = plotting_cm.set_range(chl_min,chl_max,inplace=False)\n",
    "chl_cm.reverse()\n",
    "chl_img_2.colorize(chl_cm)\n",
    "chl_img_2 = chl_img_2.pil_image()\n",
    "\n",
    "combined_img = Image.alpha_composite(base_img, rgb_img)\n",
    "combined_img = Image.alpha_composite(base_img, chl_img)\n",
    "combined_img = Image.alpha_composite(combined_img, boundary_img)\n",
    "combined_img = Image.alpha_composite(combined_img, overlay_img)\n",
    "combined_img.save('./' + satobj.capture_name + '_hypso_chl.png')\n",
    "\n",
    "\n",
    "from pydecorate import DecoratorAGG\n",
    "\n",
    "combined_img = Image.alpha_composite(base_img, rgb_img)\n",
    "combined_img = Image.alpha_composite(combined_img, boundary_img)\n",
    "combined_img = Image.alpha_composite(combined_img, overlay_img)\n",
    "\n",
    "\n",
    "\n",
    "if False:\n",
    "    chl_cm = plotting_cm.set_range(chl_min,chl_max,inplace=False)\n",
    "    dc = DecoratorAGG(combined_img)\n",
    "    dc.write_vertically()\n",
    "    dc.align_right()\n",
    "    dc.align_bottom()\n",
    "\n",
    "    #dc.add_text(\"HYPSO-1 HSI\\n\" + str(satobj.capture_name), height=180)\n",
    "    #dc.add_logo(\"../assets/HYPSO_logo.png\")\n",
    "\n",
    "    dc.add_scale(chl_cm, extend=False, max_val=1, height = 512, margins=[10,10])\n",
    "\n",
    "\n",
    "combined_img.save('./' + satobj.capture_name + '_hypso_rgb.png')\n",
    "\n",
    "combined_img = Image.alpha_composite(base_img, rgb_img)\n",
    "combined_img = Image.alpha_composite(combined_img, chl_img_2)\n",
    "combined_img = Image.alpha_composite(combined_img, boundary_img)\n",
    "combined_img = Image.alpha_composite(combined_img, overlay_img)\n",
    "combined_img.save('./' + satobj.capture_name + '_hypso_combined.png')"
   ]
  },
  {
   "cell_type": "code",
   "execution_count": null,
   "id": "30c45098",
   "metadata": {},
   "outputs": [],
   "source": []
  },
  {
   "cell_type": "code",
   "execution_count": null,
   "id": "9fefc7d2",
   "metadata": {},
   "outputs": [],
   "source": []
  },
  {
   "cell_type": "code",
   "execution_count": null,
   "id": "0e6272ca",
   "metadata": {},
   "outputs": [],
   "source": [
    "\n",
    "filenames = []\n",
    "filenames = filenames + glob.glob(sentinel_3_dir + '/geo_coordinates.nc')\n",
    "filenames = filenames + glob.glob(sentinel_3_dir + '/chl_nn.nc')\n",
    "filenames = filenames + glob.glob(sentinel_3_dir + '/tsm_nn.nc')\n",
    "\n",
    "s3_scene = Scene(filenames=filenames, reader='olci_l2')\n",
    "\n",
    "s3_scene.load(['chl_nn', 'tsm_nn', 'latitude', 'longitude'])\n",
    "\n",
    "s3_scene['chl_nn'].data = 10**s3_scene['chl_nn'].data\n",
    "\n",
    "resampled_s3_scene = s3_scene.resample(area_def, resampler='bilinear', fill_value=np.NaN)"
   ]
  },
  {
   "cell_type": "code",
   "execution_count": null,
   "id": "65b8158e",
   "metadata": {},
   "outputs": [],
   "source": [
    "s3_min = 0\n",
    "s3_max = 10\n",
    "#chl_max = np.nanmax(chl_scene[chl_product].to_numpy())\n",
    "\n",
    "compositor = SingleBandCompositor('s3_chl')\n",
    "composite = compositor([resampled_s3_scene['chl_nn']])\n",
    "s3_img = to_image(composite) \n",
    "s3_cm = plotting_cm.set_range(min_val=s3_min, max_val=s3_max, inplace=True)\n",
    "#s3_cm.reverse()\n",
    "s3_img.colorize(s3_cm)\n",
    "s3_img = s3_img.pil_image()\n",
    "\n",
    "combined_s3_img = Image.alpha_composite(base_img, s3_img)\n",
    "combined_s3_img = Image.alpha_composite(combined_s3_img, boundary_img)\n",
    "combined_s3_img = Image.alpha_composite(combined_s3_img, overlay_img)\n",
    "\n",
    "combined_s3_img.save('./' + satobj.capture_name + '_sentinel3_chl.png')"
   ]
  },
  {
   "cell_type": "code",
   "execution_count": null,
   "id": "5cf9d9ec",
   "metadata": {},
   "outputs": [],
   "source": [
    "plt.imshow(satobj.l1a_cube[:,:,20])"
   ]
  },
  {
   "cell_type": "code",
   "execution_count": null,
   "id": "0888c5e3",
   "metadata": {},
   "outputs": [],
   "source": [
    "plt.imshow(satobj.l1b_cube[:,:,20])"
   ]
  },
  {
   "cell_type": "code",
   "execution_count": null,
   "id": "c1e11368",
   "metadata": {},
   "outputs": [],
   "source": [
    "c = np.zeros((satobj.l1b_cube.shape[0],satobj.l1b_cube.shape[1]))\n",
    "\n",
    "c[:,:] = satobj.destriping_coeffs[:,20]\n"
   ]
  },
  {
   "cell_type": "code",
   "execution_count": null,
   "id": "6a879386",
   "metadata": {},
   "outputs": [],
   "source": [
    "plt.imshow(c)"
   ]
  },
  {
   "cell_type": "code",
   "execution_count": null,
   "id": "055969bb",
   "metadata": {},
   "outputs": [],
   "source": [
    "datacube = satobj.l1a_cube.to_numpy()"
   ]
  },
  {
   "cell_type": "code",
   "execution_count": null,
   "id": "9a14c88c",
   "metadata": {},
   "outputs": [],
   "source": [
    "import numpy as np\n",
    "import matplotlib.pyplot as plt\n",
    "from sklearn.decomposition import PCA\n",
    "\n",
    "height, width, bands = datacube.shape\n",
    "reshaped_data = datacube.reshape(-1, bands)\n",
    "\n",
    "# Apply PCA\n",
    "pca = PCA(n_components=5)\n",
    "pca_data = pca.fit_transform(reshaped_data)\n",
    "\n",
    "# Reconstruct the data without stripe-related components\n",
    "#reconstructed_data = pca.inverse_transform(pca_data)\n",
    "#destriped_cube = reconstructed_data.reshape(height, width, bands)\n"
   ]
  },
  {
   "cell_type": "code",
   "execution_count": null,
   "id": "1711f95a",
   "metadata": {},
   "outputs": [],
   "source": [
    "pca_comps = pca_data.reshape(height, width, 5)"
   ]
  },
  {
   "cell_type": "code",
   "execution_count": null,
   "id": "13da37f2",
   "metadata": {},
   "outputs": [],
   "source": [
    "plt.imshow(pca_comps[:,:,2])"
   ]
  },
  {
   "cell_type": "code",
   "execution_count": null,
   "id": "a3b3a65f",
   "metadata": {},
   "outputs": [],
   "source": [
    "pca_comps[:,:,2].attrs"
   ]
  },
  {
   "cell_type": "code",
   "execution_count": null,
   "id": "68ad478d",
   "metadata": {},
   "outputs": [],
   "source": [
    "class NumpyArrayDict(dict):\n",
    "    def __setitem__(self, key, value):\n",
    "        \"\"\"Override the method for setting a dictionary item.\"\"\"\n",
    "        if not isinstance(value, np.ndarray):\n",
    "            raise TypeError(f\"Value must be of type np.ndarray, but got {type(value).__name__}\")\n",
    "        super().__setitem__(key, value)\n",
    "\n",
    "    def update(self, *args, **kwargs):\n",
    "        \"\"\"Override the update method to check all added values.\"\"\"\n",
    "        if args:\n",
    "            other = dict(args[0]) if len(args) == 1 else dict(args)\n",
    "            for key, value in other.items():\n",
    "                self[key] = value\n",
    "        for key, value in kwargs.items():\n",
    "            self[key] = value"
   ]
  },
  {
   "cell_type": "code",
   "execution_count": null,
   "id": "cd707ff8",
   "metadata": {},
   "outputs": [],
   "source": [
    "n = NumpyArrayDict()"
   ]
  },
  {
   "cell_type": "code",
   "execution_count": null,
   "id": "25629023",
   "metadata": {},
   "outputs": [],
   "source": [
    "n['hello'] = np.zeros(2)"
   ]
  },
  {
   "cell_type": "code",
   "execution_count": null,
   "id": "5c81cdc2",
   "metadata": {},
   "outputs": [],
   "source": [
    "n['hello']"
   ]
  },
  {
   "cell_type": "code",
   "execution_count": null,
   "id": "21db5fb0",
   "metadata": {},
   "outputs": [],
   "source": [
    "n.keys()"
   ]
  },
  {
   "cell_type": "code",
   "execution_count": null,
   "id": "3f87ee6f",
   "metadata": {},
   "outputs": [],
   "source": [
    "type(n)"
   ]
  },
  {
   "cell_type": "code",
   "execution_count": null,
   "id": "f328c6b5",
   "metadata": {},
   "outputs": [],
   "source": [
    "z = [1,2,3]"
   ]
  },
  {
   "cell_type": "code",
   "execution_count": null,
   "id": "370f670c",
   "metadata": {},
   "outputs": [],
   "source": [
    "z[:2]"
   ]
  },
  {
   "cell_type": "code",
   "execution_count": null,
   "id": "877a936e",
   "metadata": {},
   "outputs": [],
   "source": [
    "from hypso.DataArrayDict import DataArrayDict"
   ]
  },
  {
   "cell_type": "code",
   "execution_count": null,
   "id": "0cb05bb4",
   "metadata": {},
   "outputs": [],
   "source": [
    "da = DataArrayDict(attributes={}, dims_shape=satobj.spatial_dimensions)"
   ]
  },
  {
   "cell_type": "code",
   "execution_count": null,
   "id": "716c4dd6",
   "metadata": {},
   "outputs": [],
   "source": [
    "from hypso.reading import load_l1a_nc_cube"
   ]
  },
  {
   "cell_type": "code",
   "execution_count": null,
   "id": "36da9937",
   "metadata": {},
   "outputs": [],
   "source": [
    "value = load_l1a_nc_cube(satobj.hypso_path)"
   ]
  },
  {
   "cell_type": "code",
   "execution_count": null,
   "id": "53d8b904",
   "metadata": {},
   "outputs": [],
   "source": [
    "da['default'] = value"
   ]
  },
  {
   "cell_type": "code",
   "execution_count": null,
   "id": "27b1c785",
   "metadata": {},
   "outputs": [],
   "source": [
    "da"
   ]
  },
  {
   "cell_type": "code",
   "execution_count": null,
   "id": "bd16c9f7",
   "metadata": {},
   "outputs": [],
   "source": []
  }
 ],
 "metadata": {
  "kernelspec": {
   "display_name": "Python 3",
   "language": "python",
   "name": "python3"
  },
  "language_info": {
   "codemirror_mode": {
    "name": "ipython",
    "version": 3
   },
   "file_extension": ".py",
   "mimetype": "text/x-python",
   "name": "python",
   "nbconvert_exporter": "python",
   "pygments_lexer": "ipython3",
   "version": "3.10.12"
  }
 },
 "nbformat": 4,
 "nbformat_minor": 5
}
