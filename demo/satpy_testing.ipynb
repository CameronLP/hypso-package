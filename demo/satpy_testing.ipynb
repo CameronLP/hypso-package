{
 "cells": [
  {
   "cell_type": "code",
   "execution_count": 1,
   "id": "45c1f6ef",
   "metadata": {},
   "outputs": [],
   "source": [
    "import os\n",
    "import sys\n",
    "import matplotlib.pyplot as plt\n",
    "from pyproj import CRS\n",
    "from pyresample import geometry\n",
    "import numpy as np\n",
    "\n",
    "\n",
    "sys.path.insert(0, '/home/cameron/Projects/hypso-package')\n",
    "\n",
    "# Import Satellite Object\n",
    "from hypso import Hypso1"
   ]
  },
  {
   "cell_type": "code",
   "execution_count": 2,
   "id": "4da22fb1",
   "metadata": {},
   "outputs": [],
   "source": [
    "dir_path = '/home/cameron/Dokumenter/Data/frohavet'\n",
    "nc_file = os.path.join(dir_path, 'frohavet_2024-05-06_1017Z-l1a.nc')\n",
    "points_file = os.path.join(dir_path, 'frohavet_2024-05-06_1017Z-bin3.points')\n",
    "\n",
    "dir_path = '/home/cameron/Dokumenter/Data/erie'\n",
    "nc_file = os.path.join(dir_path, 'erie_2022-07-20_1539Z-l1a.nc')\n",
    "points_file = os.path.join(dir_path, 'erie_2022-07-20_1539Z-bin3.points')"
   ]
  },
  {
   "cell_type": "code",
   "execution_count": 3,
   "id": "f51fb661",
   "metadata": {},
   "outputs": [
    {
     "name": "stdout",
     "output_type": "stream",
     "text": [
      "[INFO] Capture spatial dimensions: (956, 684)\n",
      "[INFO] Capture capture type: nominal\n",
      "[INFO] Running georeferencing...\n",
      "No image mode provided. Detected image mode: bin3\n",
      "[INFO] Using UTM map: WGS 84 / UTM zone 16N EPSG: 32616\n"
     ]
    }
   ],
   "source": [
    "satobj = Hypso1(hypso_path=nc_file, points_path=points_file, verbose=True)\n",
    "\n",
    "satobj.generate_l1b_cube()\n",
    "\n",
    "satobj.generate_chlorophyll_estimates(product='band_ratio')"
   ]
  },
  {
   "cell_type": "code",
   "execution_count": 5,
   "id": "19557689",
   "metadata": {},
   "outputs": [],
   "source": [
    "l1a_scene = satobj.get_l1a_satpy_scene()\n",
    "l1b_scene = satobj.get_l1b_satpy_scene()\n",
    "chl_scene = satobj.get_chlorophyll_estimates(product='band_ratio')"
   ]
  },
  {
   "cell_type": "code",
   "execution_count": 6,
   "id": "5a24bcd9",
   "metadata": {},
   "outputs": [],
   "source": [
    "#l1a_scene._datasets.keys()"
   ]
  },
  {
   "cell_type": "code",
   "execution_count": null,
   "id": "596fcdaf",
   "metadata": {},
   "outputs": [],
   "source": []
  }
 ],
 "metadata": {
  "kernelspec": {
   "display_name": "Python 3",
   "language": "python",
   "name": "python3"
  },
  "language_info": {
   "codemirror_mode": {
    "name": "ipython",
    "version": 3
   },
   "file_extension": ".py",
   "mimetype": "text/x-python",
   "name": "python",
   "nbconvert_exporter": "python",
   "pygments_lexer": "ipython3",
   "version": "3.10.12"
  }
 },
 "nbformat": 4,
 "nbformat_minor": 5
}
