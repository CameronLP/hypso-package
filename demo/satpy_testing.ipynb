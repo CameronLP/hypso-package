{
 "cells": [
  {
   "cell_type": "code",
   "execution_count": 1,
   "id": "45c1f6ef",
   "metadata": {},
   "outputs": [],
   "source": [
    "import os\n",
    "import sys\n",
    "import matplotlib.pyplot as plt\n",
    "from pyproj import CRS\n",
    "from pyresample import geometry\n",
    "import numpy as np\n",
    "\n",
    "\n",
    "sys.path.insert(0, '/home/cameron/Projects/hypso-package')\n",
    "\n",
    "# Import Satellite Object\n",
    "from hypso import Hypso1"
   ]
  },
  {
   "cell_type": "code",
   "execution_count": 2,
   "id": "4da22fb1",
   "metadata": {},
   "outputs": [],
   "source": [
    "dir_path = '/home/cameron/Dokumenter/Data/frohavet'\n",
    "nc_file = os.path.join(dir_path, 'frohavet_2024-05-06_1017Z-l1a.nc')\n",
    "points_file = os.path.join(dir_path, 'frohavet_2024-05-06_1017Z-bin3.points')"
   ]
  },
  {
   "cell_type": "code",
   "execution_count": 3,
   "id": "f51fb661",
   "metadata": {},
   "outputs": [
    {
     "name": "stdout",
     "output_type": "stream",
     "text": [
      "[INFO] Capture spatial dimensions: (598, 1092)\n",
      "[INFO] Capture capture type: wide\n",
      "[INFO] Running georeferencing...\n",
      "No image mode provided. Detected image mode: bin3\n",
      "[INFO] Using UTM map: WGS 84 / UTM zone 32N EPSG: 32632\n"
     ]
    }
   ],
   "source": [
    "satobj = Hypso1(hypso_path=nc_file, points_path=points_file, verbose=True)\n",
    "\n",
    "#satobj.generate_l1b_cube()"
   ]
  },
  {
   "cell_type": "code",
   "execution_count": 4,
   "id": "ed2b3a88",
   "metadata": {},
   "outputs": [
    {
     "data": {
      "text/plain": [
       "592.8625951680069"
      ]
     },
     "execution_count": 4,
     "metadata": {},
     "output_type": "execute_result"
    }
   ],
   "source": [
    "satobj.resolution"
   ]
  },
  {
   "cell_type": "code",
   "execution_count": 5,
   "id": "19557689",
   "metadata": {},
   "outputs": [],
   "source": [
    "l1a_scene = satobj.get_l1a_satpy_scene()\n",
    "#l1b_scene = satobj.get_l1b_satpy_scene()"
   ]
  },
  {
   "cell_type": "code",
   "execution_count": 7,
   "id": "5a24bcd9",
   "metadata": {},
   "outputs": [],
   "source": [
    "#l1a_scene._datasets.keys()"
   ]
  },
  {
   "cell_type": "code",
   "execution_count": 8,
   "id": "c9d9a7db",
   "metadata": {},
   "outputs": [
    {
     "ename": "TypeError",
     "evalue": "type NoneType doesn't define __round__ method",
     "output_type": "error",
     "traceback": [
      "\u001b[0;31m---------------------------------------------------------------------------\u001b[0m",
      "\u001b[0;31mTypeError\u001b[0m                                 Traceback (most recent call last)",
      "File \u001b[0;32m~/miniforge3/lib/python3.10/site-packages/IPython/core/formatters.py:347\u001b[0m, in \u001b[0;36mBaseFormatter.__call__\u001b[0;34m(self, obj)\u001b[0m\n\u001b[1;32m    345\u001b[0m     method \u001b[38;5;241m=\u001b[39m get_real_method(obj, \u001b[38;5;28mself\u001b[39m\u001b[38;5;241m.\u001b[39mprint_method)\n\u001b[1;32m    346\u001b[0m     \u001b[38;5;28;01mif\u001b[39;00m method \u001b[38;5;129;01mis\u001b[39;00m \u001b[38;5;129;01mnot\u001b[39;00m \u001b[38;5;28;01mNone\u001b[39;00m:\n\u001b[0;32m--> 347\u001b[0m         \u001b[38;5;28;01mreturn\u001b[39;00m \u001b[43mmethod\u001b[49m\u001b[43m(\u001b[49m\u001b[43m)\u001b[49m\n\u001b[1;32m    348\u001b[0m     \u001b[38;5;28;01mreturn\u001b[39;00m \u001b[38;5;28;01mNone\u001b[39;00m\n\u001b[1;32m    349\u001b[0m \u001b[38;5;28;01melse\u001b[39;00m:\n",
      "File \u001b[0;32m~/miniforge3/lib/python3.10/site-packages/pyresample/geometry.py:907\u001b[0m, in \u001b[0;36mSwathDefinition._repr_html_\u001b[0;34m(self)\u001b[0m\n\u001b[1;32m    905\u001b[0m \u001b[38;5;28;01mdef\u001b[39;00m \u001b[38;5;21m_repr_html_\u001b[39m(\u001b[38;5;28mself\u001b[39m):\n\u001b[1;32m    906\u001b[0m \u001b[38;5;250m    \u001b[39m\u001b[38;5;124;03m\"\"\"Html representation.\"\"\"\u001b[39;00m\n\u001b[0;32m--> 907\u001b[0m     \u001b[38;5;28;01mreturn\u001b[39;00m \u001b[43m_formatting_html\u001b[49m\u001b[38;5;241;43m.\u001b[39;49m\u001b[43marea_repr\u001b[49m\u001b[43m(\u001b[49m\u001b[38;5;28;43mself\u001b[39;49m\u001b[43m)\u001b[49m\n",
      "File \u001b[0;32m~/miniforge3/lib/python3.10/site-packages/pyresample/_formatting_html.py:359\u001b[0m, in \u001b[0;36marea_repr\u001b[0;34m(area, include_header, include_static_files)\u001b[0m\n\u001b[1;32m    357\u001b[0m     html \u001b[38;5;241m+\u001b[39m\u001b[38;5;241m=\u001b[39m map_section(area)\n\u001b[1;32m    358\u001b[0m \u001b[38;5;28;01melif\u001b[39;00m \u001b[38;5;28misinstance\u001b[39m(area, geom\u001b[38;5;241m.\u001b[39mSwathDefinition):\n\u001b[0;32m--> 359\u001b[0m     html \u001b[38;5;241m+\u001b[39m\u001b[38;5;241m=\u001b[39m \u001b[43mswath_area_attrs_section\u001b[49m\u001b[43m(\u001b[49m\u001b[43marea\u001b[49m\u001b[43m)\u001b[49m\n\u001b[1;32m    361\u001b[0m html \u001b[38;5;241m+\u001b[39m\u001b[38;5;241m=\u001b[39m \u001b[38;5;124m\"\u001b[39m\u001b[38;5;124m</div>\u001b[39m\u001b[38;5;124m\"\u001b[39m\n\u001b[1;32m    363\u001b[0m \u001b[38;5;28;01mreturn\u001b[39;00m html\n",
      "File \u001b[0;32m~/miniforge3/lib/python3.10/site-packages/pyresample/_formatting_html.py:262\u001b[0m, in \u001b[0;36mswath_area_attrs_section\u001b[0;34m(area)\u001b[0m\n\u001b[1;32m    260\u001b[0m     \u001b[38;5;66;03m# use resolution from lat/lons dataarray attributes -> are these always set? -> Maybe try/except?\u001b[39;00m\n\u001b[1;32m    261\u001b[0m     area_name \u001b[38;5;241m=\u001b[39m \u001b[38;5;124mf\u001b[39m\u001b[38;5;124m\"\u001b[39m\u001b[38;5;132;01m{\u001b[39;00mlon_attrs\u001b[38;5;241m.\u001b[39mget(\u001b[38;5;124m'\u001b[39m\u001b[38;5;124msensor\u001b[39m\u001b[38;5;124m'\u001b[39m)\u001b[38;5;132;01m}\u001b[39;00m\u001b[38;5;124m swath\u001b[39m\u001b[38;5;124m\"\u001b[39m\n\u001b[0;32m--> 262\u001b[0m     resolution_str \u001b[38;5;241m=\u001b[39m \u001b[38;5;124m\"\u001b[39m\u001b[38;5;124m/\u001b[39m\u001b[38;5;124m\"\u001b[39m\u001b[38;5;241m.\u001b[39mjoin([\u001b[38;5;28mstr\u001b[39m(\u001b[38;5;28mround\u001b[39m(x\u001b[38;5;241m.\u001b[39mget(\u001b[38;5;124m\"\u001b[39m\u001b[38;5;124mresolution\u001b[39m\u001b[38;5;124m\"\u001b[39m), \u001b[38;5;241m1\u001b[39m)) \u001b[38;5;28;01mfor\u001b[39;00m x \u001b[38;5;129;01min\u001b[39;00m [lat_attrs, lon_attrs]])\n\u001b[1;32m    263\u001b[0m     area_units \u001b[38;5;241m=\u001b[39m \u001b[38;5;124m\"\u001b[39m\u001b[38;5;124mm\u001b[39m\u001b[38;5;124m\"\u001b[39m\n\u001b[1;32m    265\u001b[0m height, width \u001b[38;5;241m=\u001b[39m area\u001b[38;5;241m.\u001b[39mlons\u001b[38;5;241m.\u001b[39mshape\n",
      "File \u001b[0;32m~/miniforge3/lib/python3.10/site-packages/pyresample/_formatting_html.py:262\u001b[0m, in \u001b[0;36m<listcomp>\u001b[0;34m(.0)\u001b[0m\n\u001b[1;32m    260\u001b[0m     \u001b[38;5;66;03m# use resolution from lat/lons dataarray attributes -> are these always set? -> Maybe try/except?\u001b[39;00m\n\u001b[1;32m    261\u001b[0m     area_name \u001b[38;5;241m=\u001b[39m \u001b[38;5;124mf\u001b[39m\u001b[38;5;124m\"\u001b[39m\u001b[38;5;132;01m{\u001b[39;00mlon_attrs\u001b[38;5;241m.\u001b[39mget(\u001b[38;5;124m'\u001b[39m\u001b[38;5;124msensor\u001b[39m\u001b[38;5;124m'\u001b[39m)\u001b[38;5;132;01m}\u001b[39;00m\u001b[38;5;124m swath\u001b[39m\u001b[38;5;124m\"\u001b[39m\n\u001b[0;32m--> 262\u001b[0m     resolution_str \u001b[38;5;241m=\u001b[39m \u001b[38;5;124m\"\u001b[39m\u001b[38;5;124m/\u001b[39m\u001b[38;5;124m\"\u001b[39m\u001b[38;5;241m.\u001b[39mjoin([\u001b[38;5;28mstr\u001b[39m(\u001b[38;5;28;43mround\u001b[39;49m\u001b[43m(\u001b[49m\u001b[43mx\u001b[49m\u001b[38;5;241;43m.\u001b[39;49m\u001b[43mget\u001b[49m\u001b[43m(\u001b[49m\u001b[38;5;124;43m\"\u001b[39;49m\u001b[38;5;124;43mresolution\u001b[39;49m\u001b[38;5;124;43m\"\u001b[39;49m\u001b[43m)\u001b[49m\u001b[43m,\u001b[49m\u001b[43m \u001b[49m\u001b[38;5;241;43m1\u001b[39;49m\u001b[43m)\u001b[49m) \u001b[38;5;28;01mfor\u001b[39;00m x \u001b[38;5;129;01min\u001b[39;00m [lat_attrs, lon_attrs]])\n\u001b[1;32m    263\u001b[0m     area_units \u001b[38;5;241m=\u001b[39m \u001b[38;5;124m\"\u001b[39m\u001b[38;5;124mm\u001b[39m\u001b[38;5;124m\"\u001b[39m\n\u001b[1;32m    265\u001b[0m height, width \u001b[38;5;241m=\u001b[39m area\u001b[38;5;241m.\u001b[39mlons\u001b[38;5;241m.\u001b[39mshape\n",
      "\u001b[0;31mTypeError\u001b[0m: type NoneType doesn't define __round__ method"
     ]
    },
    {
     "data": {
      "text/plain": [
       "Shape: (598, 1092)\n",
       "Lons: <xarray.DataArray (y: 598, x: 1092)>\n",
       "array([[ 9.95151937,  9.95278019,  9.95404101, ..., 11.32704514,\n",
       "        11.32831054, 11.32957594],\n",
       "       [ 9.94718315,  9.94844373,  9.94970432, ..., 11.32244953,\n",
       "        11.32371469, 11.32497986],\n",
       "       [ 9.94284817,  9.94410852,  9.94536887, ..., 11.31785518,\n",
       "        11.3191201 , 11.32038503],\n",
       "       ...,\n",
       "       [ 7.59193217,  7.59305127,  7.59417037, ...,  8.81312522,\n",
       "         8.8142489 ,  8.81537258],\n",
       "       [ 7.58833825,  7.58945711,  7.59057598, ...,  8.80927192,\n",
       "         8.81039536,  8.81151881],\n",
       "       [ 7.58474558,  7.58586421,  7.58698284, ...,  8.80541987,\n",
       "         8.80654307,  8.80766628]])\n",
       "Dimensions without coordinates: y, x\n",
       "Lats: <xarray.DataArray (y: 598, x: 1092)>\n",
       "array([[65.5340918 , 65.53395482, 65.53381781, ..., 65.36610637,\n",
       "        65.3659348 , 65.3657632 ],\n",
       "       [65.52914767, 65.52901068, 65.52887366, ..., 65.36115259,\n",
       "        65.36098102, 65.36080941],\n",
       "       [65.52420333, 65.52406634, 65.52392931, ..., 65.35619862,\n",
       "        65.35602704, 65.35585542],\n",
       "       ...,\n",
       "       [62.55753585, 62.55739361, 62.55725133, ..., 62.38381524,\n",
       "        62.38363841, 62.38346154],\n",
       "       [62.55247456, 62.55233231, 62.55219002, ..., 62.37874431,\n",
       "        62.37856747, 62.37839059],\n",
       "       [62.54741307, 62.54727081, 62.54712852, ..., 62.37367318,\n",
       "        62.37349633, 62.37331945]])\n",
       "Dimensions without coordinates: y, x"
      ]
     },
     "execution_count": 8,
     "metadata": {},
     "output_type": "execute_result"
    }
   ],
   "source": [
    "l1a_scene.coarsest_area()"
   ]
  },
  {
   "cell_type": "code",
   "execution_count": 9,
   "id": "827bbca0",
   "metadata": {},
   "outputs": [
    {
     "data": {
      "text/plain": [
       "592.8625951680069"
      ]
     },
     "execution_count": 9,
     "metadata": {},
     "output_type": "execute_result"
    }
   ],
   "source": [
    "satobj.along_track_mean_gsd"
   ]
  },
  {
   "cell_type": "code",
   "execution_count": null,
   "id": "e2cb94ca",
   "metadata": {},
   "outputs": [],
   "source": []
  },
  {
   "cell_type": "code",
   "execution_count": 5,
   "id": "54002f77",
   "metadata": {},
   "outputs": [],
   "source": [
    "test = [1, None]"
   ]
  },
  {
   "cell_type": "code",
   "execution_count": 7,
   "id": "dc230965",
   "metadata": {},
   "outputs": [
    {
     "ename": "ValueError",
     "evalue": "max() arg is an empty sequence",
     "output_type": "error",
     "traceback": [
      "\u001b[0;31m---------------------------------------------------------------------------\u001b[0m",
      "\u001b[0;31mValueError\u001b[0m                                Traceback (most recent call last)",
      "Cell \u001b[0;32mIn[7], line 1\u001b[0m\n\u001b[0;32m----> 1\u001b[0m \u001b[38;5;28;43mmax\u001b[39;49m\u001b[43m(\u001b[49m\u001b[43m[\u001b[49m\u001b[43m]\u001b[49m\u001b[43m)\u001b[49m\n",
      "\u001b[0;31mValueError\u001b[0m: max() arg is an empty sequence"
     ]
    }
   ],
   "source": [
    "max([])"
   ]
  },
  {
   "cell_type": "code",
   "execution_count": null,
   "id": "596fcdaf",
   "metadata": {},
   "outputs": [],
   "source": []
  }
 ],
 "metadata": {
  "kernelspec": {
   "display_name": "Python 3",
   "language": "python",
   "name": "python3"
  },
  "language_info": {
   "codemirror_mode": {
    "name": "ipython",
    "version": 3
   },
   "file_extension": ".py",
   "mimetype": "text/x-python",
   "name": "python",
   "nbconvert_exporter": "python",
   "pygments_lexer": "ipython3",
   "version": "3.10.12"
  }
 },
 "nbformat": 4,
 "nbformat_minor": 5
}
