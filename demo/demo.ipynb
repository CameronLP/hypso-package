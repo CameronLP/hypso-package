{
 "cells": [
  {
   "cell_type": "code",
   "execution_count": 1,
   "id": "45c1f6ef",
   "metadata": {},
   "outputs": [],
   "source": [
    "import sys\n",
    "sys.path.insert(0, '/home/cameron/Projects/hypso-package')"
   ]
  },
  {
   "cell_type": "markdown",
   "id": "b794a983",
   "metadata": {},
   "source": [
    "# Download Multiple .nc Files"
   ]
  },
  {
   "cell_type": "code",
   "execution_count": 2,
   "id": "fa8cea811f6eebc8",
   "metadata": {
    "ExecuteTime": {
     "end_time": "2024-03-17T02:13:46.744622Z",
     "start_time": "2024-03-17T02:13:28.183072Z"
    },
    "collapsed": false
   },
   "outputs": [
    {
     "name": "stdout",
     "output_type": "stream",
     "text": [
      "Download Failed. <urlopen error [Errno -3] Temporary failure in name resolution>\n",
      "Deleting tibet_2022-09-29_0446Z.nc\n",
      "Download Failed. <urlopen error [Errno -3] Temporary failure in name resolution>\n",
      "Deleting xaafuun_2023-09-11_0623Z-l1a.nc\n",
      "Download Failed. <urlopen error [Errno -3] Temporary failure in name resolution>\n",
      "Deleting vancouver_2023-05-25_1831Z-l1a.nc\n"
     ]
    }
   ],
   "source": [
    "# Download Files to relative folder  \n",
    "from hypso import download_nc_files\n",
    "            \n",
    "download_nc_files(filename_list=[\"tibet_2022-09-29_0446Z.nc\", \"xaafuun_2023-09-11_0623Z-l1a.nc\",\"vancouver_2023-05-25_1831Z-l1a.nc\"],\n",
    "                  download_dir=\"/home/cameron/Nedlastinger/\")"
   ]
  },
  {
   "cell_type": "markdown",
   "id": "2b4a41c5ecf23b37",
   "metadata": {
    "collapsed": false
   },
   "source": [
    "# Read .nc File"
   ]
  },
  {
   "cell_type": "code",
   "execution_count": 3,
   "id": "3de2cb08c90c4792",
   "metadata": {
    "ExecuteTime": {
     "end_time": "2024-03-17T02:14:29.691418Z",
     "start_time": "2024-03-17T02:13:46.746517Z"
    },
    "collapsed": false
   },
   "outputs": [
    {
     "name": "stdout",
     "output_type": "stream",
     "text": [
      "[INFO] Capture spatial dimensions: (956, 684)\n",
      "[INFO] Capture capture type: nominal\n",
      "[INFO] Running georeferencing...\n",
      "No image mode provided. Detected image mode: bin3\n"
     ]
    }
   ],
   "source": [
    "# Import Satellite Object\n",
    "from hypso import Hypso1\n",
    "import os\n",
    "\n",
    "# Define HYPSO Image File and the .points from QGIS (if available)\n",
    "dir_path = '/home/cameron/Dokumenter/Data/erie'\n",
    "nc_file = os.path.join(dir_path, 'erie_2022-07-20_1539Z-l1a.nc')\n",
    "points_file = os.path.join(dir_path, 'erie_2022-07-20_1539Z-bin3.points')\n",
    "\n",
    "# Create Satellite Object\n",
    "satobj = Hypso1(hypso_path=nc_file, points_path=points_file, verbose=True)"
   ]
  },
  {
   "cell_type": "markdown",
   "id": "2132001e",
   "metadata": {},
   "source": [
    "# Get L1A datacube"
   ]
  },
  {
   "cell_type": "code",
   "execution_count": 4,
   "id": "3e1ae11d",
   "metadata": {},
   "outputs": [],
   "source": [
    "l1a_cube = satobj.get_l1a_cube()"
   ]
  },
  {
   "cell_type": "markdown",
   "id": "667ba7d2",
   "metadata": {},
   "source": [
    "# Generate L1B datacube"
   ]
  },
  {
   "cell_type": "code",
   "execution_count": 5,
   "id": "3cb37f82",
   "metadata": {},
   "outputs": [
    {
     "name": "stdout",
     "output_type": "stream",
     "text": [
      "[INFO] Running calibration routines...\n",
      "[INFO] Running radiometric calibration...\n",
      "[INFO] Running smile correction...\n",
      "[INFO] Running destriping correction...\n"
     ]
    }
   ],
   "source": [
    "satobj.generate_l1b_cube()\n",
    "\n",
    "l1b_cube = satobj.get_l1b_cube()"
   ]
  },
  {
   "cell_type": "markdown",
   "id": "c48aecf4",
   "metadata": {},
   "source": [
    "# Generate L2A datacube"
   ]
  },
  {
   "cell_type": "code",
   "execution_count": 6,
   "id": "0bb6c1c0",
   "metadata": {},
   "outputs": [
    {
     "name": "stdout",
     "output_type": "stream",
     "text": [
      "[INFO] Running 6SV1 atmospheric correction\n",
      "[INFO] Calibration has already been run. Skipping.\n",
      "[INFO] Running geometry computation...\n",
      "ECI position samples: 1631\n",
      "Quaternion samples: 1631\n",
      "ADCS time range: 1658330880.000000 to 1658331778.250000\n",
      "Frame time range: 1658331554.791878 to 1658331598.200969\n",
      "173 sample(s) inside frame time range\n",
      "Interpolating 956 frames\n",
      "Spatial dimensions: 956 frames/lines, 684 pixels/samples\n",
      "Computing pixel latitude and longitude coordinates...\n",
      "Interpolating pixel coordinate gaps...\n",
      "Using geometry-computed latitude and longitude values\n",
      "Computing local angles (sun and satellite azimuth and zenith angles)...\n",
      "Image Center (lat,lon): (41.82761\t-83.08504)\n",
      "Image Center elevation angle: 63.52887\n",
      "Image Center off-nadir angle: 32.72877\n",
      "\n",
      "-------  Py6S Atmospheric Correction  ----------\n",
      "ROI:\n",
      "Max Lat: 43.12644389364998  Min Lat: 40.36988390355103\n",
      "Max Lon: -82.67700617437025  Min Lon: -84.15470201879344\n"
     ]
    },
    {
     "name": "stderr",
     "output_type": "stream",
     "text": [
      "100%|██████████| 120/120 [00:47<00:00,  2.53it/s]\n"
     ]
    }
   ],
   "source": [
    "satobj.generate_l2a_cube(product='6sv1')\n",
    "\n",
    "l2a_cube = satobj.get_l2a_cube(product='6sv1')"
   ]
  },
  {
   "cell_type": "markdown",
   "id": "6597a48b5f082901",
   "metadata": {
    "collapsed": false
   },
   "source": [
    "# Get TOA Reflectance from TOA Radiance (L2A)"
   ]
  },
  {
   "cell_type": "code",
   "execution_count": 9,
   "id": "13c5701cc1703437",
   "metadata": {
    "ExecuteTime": {
     "end_time": "2024-03-17T02:14:31.387463Z",
     "start_time": "2024-03-17T02:14:29.692342Z"
    },
    "collapsed": false
   },
   "outputs": [
    {
     "name": "stdout",
     "output_type": "stream",
     "text": [
      "[INFO] Calibration has already been run. Skipping.\n",
      "[INFO] Geometry computation has already been run. Skipping.\n",
      "[ERROR] Top of atmosphere (TOA) reflectance has not yet been generated.\n"
     ]
    }
   ],
   "source": [
    "satobj.generate_toa_reflectance()\n",
    "\n",
    "toa_rrs = satobj.get_toa_reflectance()"
   ]
  },
  {
   "cell_type": "markdown",
   "id": "72c50c16b78c7d50",
   "metadata": {
    "collapsed": false
   },
   "source": [
    "# Compare L1A and L1B .nc files"
   ]
  },
  {
   "cell_type": "code",
   "execution_count": 4,
   "id": "8b6671b95c2ed107",
   "metadata": {
    "ExecuteTime": {
     "end_time": "2024-03-17T02:14:32.400032Z",
     "start_time": "2024-03-17T02:14:31.389053Z"
    },
    "collapsed": false
   },
   "outputs": [
    {
     "data": {
      "text/html": [
       "<div>\n",
       "<style scoped>\n",
       "    .dataframe tbody tr th:only-of-type {\n",
       "        vertical-align: middle;\n",
       "    }\n",
       "\n",
       "    .dataframe tbody tr th {\n",
       "        vertical-align: top;\n",
       "    }\n",
       "\n",
       "    .dataframe thead th {\n",
       "        text-align: right;\n",
       "    }\n",
       "</style>\n",
       "<table border=\"1\" class=\"dataframe\">\n",
       "  <thead>\n",
       "    <tr style=\"text-align: right;\">\n",
       "      <th></th>\n",
       "      <th>label</th>\n",
       "      <th>presence</th>\n",
       "      <th>validator</th>\n",
       "      <th>mjosa_2023-06-15_0948Z-l1a.nc</th>\n",
       "      <th>mjosa_2023-06-15_0948Z-l1b.nc</th>\n",
       "    </tr>\n",
       "  </thead>\n",
       "  <tbody>\n",
       "    <tr>\n",
       "      <th>0</th>\n",
       "      <td>(/, dimensions, lines)</td>\n",
       "      <td>Present in Both</td>\n",
       "      <td>equal</td>\n",
       "      <td>598</td>\n",
       "      <td>598</td>\n",
       "    </tr>\n",
       "    <tr>\n",
       "      <th>1</th>\n",
       "      <td>(/, dimensions, samples)</td>\n",
       "      <td>Present in Both</td>\n",
       "      <td>equal</td>\n",
       "      <td>1092</td>\n",
       "      <td>1092</td>\n",
       "    </tr>\n",
       "    <tr>\n",
       "      <th>2</th>\n",
       "      <td>(/, dimensions, bands)</td>\n",
       "      <td>Present in Both</td>\n",
       "      <td>equal</td>\n",
       "      <td>120</td>\n",
       "      <td>120</td>\n",
       "    </tr>\n",
       "    <tr>\n",
       "      <th>3</th>\n",
       "      <td>(/, dimensions, adcssamples)</td>\n",
       "      <td>Present in Both</td>\n",
       "      <td>equal</td>\n",
       "      <td>1912</td>\n",
       "      <td>1912</td>\n",
       "    </tr>\n",
       "    <tr>\n",
       "      <th>4</th>\n",
       "      <td>(/, dimensions, radrows)</td>\n",
       "      <td>Present in Both</td>\n",
       "      <td>different</td>\n",
       "      <td>1216</td>\n",
       "      <td>1092</td>\n",
       "    </tr>\n",
       "    <tr>\n",
       "      <th>5</th>\n",
       "      <td>(/, dimensions, radcols)</td>\n",
       "      <td>Present in Both</td>\n",
       "      <td>different</td>\n",
       "      <td>1936</td>\n",
       "      <td>120</td>\n",
       "    </tr>\n",
       "    <tr>\n",
       "      <th>6</th>\n",
       "      <td>(/, dimensions, specrows)</td>\n",
       "      <td>Present in Both</td>\n",
       "      <td>different</td>\n",
       "      <td>4</td>\n",
       "      <td>120</td>\n",
       "    </tr>\n",
       "    <tr>\n",
       "      <th>7</th>\n",
       "      <td>(/, group_attributes, instrument)</td>\n",
       "      <td>Present in Both</td>\n",
       "      <td>equal</td>\n",
       "      <td>HYPSO-1 Hyperspectral Imager</td>\n",
       "      <td>HYPSO-1 Hyperspectral Imager</td>\n",
       "    </tr>\n",
       "    <tr>\n",
       "      <th>8</th>\n",
       "      <td>(/, group_attributes, institution)</td>\n",
       "      <td>Present in Both</td>\n",
       "      <td>equal</td>\n",
       "      <td>Norwegian University of Science and Technology</td>\n",
       "      <td>Norwegian University of Science and Technology</td>\n",
       "    </tr>\n",
       "    <tr>\n",
       "      <th>9</th>\n",
       "      <td>(/, group_attributes, resolution)</td>\n",
       "      <td>Present in Both</td>\n",
       "      <td>equal</td>\n",
       "      <td>N/A</td>\n",
       "      <td>N/A</td>\n",
       "    </tr>\n",
       "  </tbody>\n",
       "</table>\n",
       "</div>"
      ],
      "text/plain": [
       "                                label         presence  validator  \\\n",
       "0              (/, dimensions, lines)  Present in Both      equal   \n",
       "1            (/, dimensions, samples)  Present in Both      equal   \n",
       "2              (/, dimensions, bands)  Present in Both      equal   \n",
       "3        (/, dimensions, adcssamples)  Present in Both      equal   \n",
       "4            (/, dimensions, radrows)  Present in Both  different   \n",
       "5            (/, dimensions, radcols)  Present in Both  different   \n",
       "6           (/, dimensions, specrows)  Present in Both  different   \n",
       "7   (/, group_attributes, instrument)  Present in Both      equal   \n",
       "8  (/, group_attributes, institution)  Present in Both      equal   \n",
       "9   (/, group_attributes, resolution)  Present in Both      equal   \n",
       "\n",
       "                    mjosa_2023-06-15_0948Z-l1a.nc  \\\n",
       "0                                             598   \n",
       "1                                            1092   \n",
       "2                                             120   \n",
       "3                                            1912   \n",
       "4                                            1216   \n",
       "5                                            1936   \n",
       "6                                               4   \n",
       "7                    HYPSO-1 Hyperspectral Imager   \n",
       "8  Norwegian University of Science and Technology   \n",
       "9                                             N/A   \n",
       "\n",
       "                    mjosa_2023-06-15_0948Z-l1b.nc  \n",
       "0                                             598  \n",
       "1                                            1092  \n",
       "2                                             120  \n",
       "3                                            1912  \n",
       "4                                            1092  \n",
       "5                                             120  \n",
       "6                                             120  \n",
       "7                    HYPSO-1 Hyperspectral Imager  \n",
       "8  Norwegian University of Science and Technology  \n",
       "9                                             N/A  "
      ]
     },
     "execution_count": 4,
     "metadata": {},
     "output_type": "execute_result"
    }
   ],
   "source": [
    "from hypso.utils import compare_netcdf_files\n",
    "hypso_path_l1a=\"/Users/alvaroflores/Documents/mjosa_2023-06-15_0948Z-l1a.nc\"\n",
    "\n",
    "# L1B is Generated when loading l1a.nc for the first time\n",
    "hypso_path_l1b = \"/Users/alvaroflores/Documents/mjosa_2023-06-15_0948Z-l1b.nc\" \n",
    "\n",
    "summary_l1a_l1b = compare_netcdf_files(hypso_path_l1a, hypso_path_l1b)\n",
    "summary_l1a_l1b.head(10)"
   ]
  },
  {
   "cell_type": "markdown",
   "id": "792ff7ed98da33dd",
   "metadata": {
    "collapsed": false
   },
   "source": [
    "# Get Radiance from L1C Product"
   ]
  },
  {
   "cell_type": "code",
   "execution_count": 6,
   "id": "3952f64c4e52469e",
   "metadata": {
    "ExecuteTime": {
     "end_time": "2024-03-17T02:14:32.589777Z",
     "start_time": "2024-03-17T02:14:32.404107Z"
    },
    "collapsed": false
   },
   "outputs": [
    {
     "name": "stdout",
     "output_type": "stream",
     "text": [
      "Dataset CRS:  EPSG:32632\n",
      "(lat, lon) -→ (X, Y) : (59.5, 10) -→ (1991, 77)\n"
     ]
    },
    {
     "data": {
      "image/png": "[encoded data removed]",
      "text/plain": [
       "<Figure size 1000x500 with 1 Axes>"
      ]
     },
     "metadata": {},
     "output_type": "display_data"
    },
    {
     "data": {
      "text/html": [
       "<div>\n",
       "<style scoped>\n",
       "    .dataframe tbody tr th:only-of-type {\n",
       "        vertical-align: middle;\n",
       "    }\n",
       "\n",
       "    .dataframe tbody tr th {\n",
       "        vertical-align: top;\n",
       "    }\n",
       "\n",
       "    .dataframe thead th {\n",
       "        text-align: right;\n",
       "    }\n",
       "</style>\n",
       "<table border=\"1\" class=\"dataframe\">\n",
       "  <thead>\n",
       "    <tr style=\"text-align: right;\">\n",
       "      <th></th>\n",
       "      <th>wl</th>\n",
       "      <th>radiance</th>\n",
       "      <th>lat</th>\n",
       "      <th>lon</th>\n",
       "      <th>X</th>\n",
       "      <th>Y</th>\n",
       "    </tr>\n",
       "  </thead>\n",
       "  <tbody>\n",
       "    <tr>\n",
       "      <th>0</th>\n",
       "      <td>387.847497</td>\n",
       "      <td>0.000000</td>\n",
       "      <td>59.5</td>\n",
       "      <td>10</td>\n",
       "      <td>1991</td>\n",
       "      <td>77</td>\n",
       "    </tr>\n",
       "    <tr>\n",
       "      <th>1</th>\n",
       "      <td>391.404066</td>\n",
       "      <td>0.000000</td>\n",
       "      <td>59.5</td>\n",
       "      <td>10</td>\n",
       "      <td>1991</td>\n",
       "      <td>77</td>\n",
       "    </tr>\n",
       "    <tr>\n",
       "      <th>2</th>\n",
       "      <td>394.959416</td>\n",
       "      <td>0.000000</td>\n",
       "      <td>59.5</td>\n",
       "      <td>10</td>\n",
       "      <td>1991</td>\n",
       "      <td>77</td>\n",
       "    </tr>\n",
       "    <tr>\n",
       "      <th>3</th>\n",
       "      <td>398.513546</td>\n",
       "      <td>29.374838</td>\n",
       "      <td>59.5</td>\n",
       "      <td>10</td>\n",
       "      <td>1991</td>\n",
       "      <td>77</td>\n",
       "    </tr>\n",
       "    <tr>\n",
       "      <th>4</th>\n",
       "      <td>402.066457</td>\n",
       "      <td>60.709898</td>\n",
       "      <td>59.5</td>\n",
       "      <td>10</td>\n",
       "      <td>1991</td>\n",
       "      <td>77</td>\n",
       "    </tr>\n",
       "  </tbody>\n",
       "</table>\n",
       "</div>"
      ],
      "text/plain": [
       "           wl   radiance   lat  lon     X   Y\n",
       "0  387.847497   0.000000  59.5   10  1991  77\n",
       "1  391.404066   0.000000  59.5   10  1991  77\n",
       "2  394.959416   0.000000  59.5   10  1991  77\n",
       "3  398.513546  29.374838  59.5   10  1991  77\n",
       "4  402.066457  60.709898  59.5   10  1991  77"
      ]
     },
     "execution_count": 6,
     "metadata": {},
     "output_type": "execute_result"
    }
   ],
   "source": [
    "spectra_l1c = satobj.get_spectra(product=\"L1C\", position_dict={\"lat\":59.5,\"lon\":10}, plot=True)\n",
    "\n",
    "spectra_l1c.head()"
   ]
  },
  {
   "cell_type": "markdown",
   "id": "5d6964fb",
   "metadata": {},
   "source": [
    "## Estimate Water Mask"
   ]
  },
  {
   "cell_type": "code",
   "execution_count": 15,
   "id": "a320bbf0",
   "metadata": {
    "ExecuteTime": {
     "end_time": "2024-03-17T02:15:52.068877Z",
     "start_time": "2024-03-17T02:15:43.321701Z"
    }
   },
   "outputs": [
    {
     "name": "stdout",
     "output_type": "stream",
     "text": [
      "\n",
      "\n",
      "-------  Naive-Bayes Water Mask Detector  ----------\n",
      "Loading configuration file /Users/alvaroflores/Documents/Research Assitant/hypso-package/hypso/classification/WaterDetection/WaterDetect.ini\n",
      "File /Users/alvaroflores/Documents/Research Assitant/hypso-package/hypso/classification/WaterDetection/WaterDetect.ini verified.\n",
      "[['ndwi', 'Nir'], ['otsu', 'ndwi']]\n",
      "maxndwi\n",
      "Selection of best number of clusters using Calinski-Harabasz Index:\n",
      "k=2 :Calinski_harabaz index=17228.61357350908\n",
      "k=3 :Calinski_harabaz index=10970.303577577712\n",
      "k=4 :Calinski_harabaz index=7483.976114437732\n",
      "k=5 :Calinski_harabaz index=14987.564972778157\n",
      "k=6 :Calinski_harabaz index=13759.059952710535\n",
      "k=7 :Calinski_harabaz index=25424.78389063756\n",
      "Applying clusters based naive bayes classifier\n",
      "Assgnin 1 to cluster_id 5\n",
      "Skipping cluster_id 5\n"
     ]
    },
    {
     "data": {
      "image/png": "[encoded data removed]",
      "text/plain": [
       "<Figure size 640x480 with 1 Axes>"
      ]
     },
     "metadata": {},
     "output_type": "display_data"
    }
   ],
   "source": [
    "from hypso.classification import ndwi_watermask\n",
    "\n",
    "# Calculate Water Mask With Binary Values\n",
    "ndwi_watermask(satobj)\n",
    "\n",
    "# Show Water Mask\n",
    "import matplotlib.pyplot as plt\n",
    "plt.figure()\n",
    "plt.imshow(satobj.waterMask)\n",
    "plt.show()"
   ]
  },
  {
   "cell_type": "markdown",
   "id": "8936b658",
   "metadata": {},
   "source": [
    "## Print Contents of .nc file"
   ]
  },
  {
   "cell_type": "code",
   "execution_count": 8,
   "id": "faab5a5a",
   "metadata": {
    "ExecuteTime": {
     "end_time": "2024-03-17T02:15:54.274560Z",
     "start_time": "2024-03-17T02:15:54.263327Z"
    }
   },
   "outputs": [
    {
     "name": "stdout",
     "output_type": "stream",
     "text": [
      "--- GROUP: \"/\" ---\n",
      "DIMENSIONS: lines (956), samples (684), bands (120), adcssamples (1631), radrows (1216), radcols (1936), specrows (4), \n",
      "GROUP ATTRIBUTES: instrument, institution, resolution, location_description, license, naming_authority, date_processed, date_aquired, publisher_name, publisher_url, processing_level, target_coords, radiometric_file, spectral_file, md5sum, byte_size_compressed_cube, warnings, \n",
      "VARIABLES: \n",
      "VAR ATTRIBUTES: \n",
      "SUB-GROUPS: logfiles, products, metadata, \n",
      "\n",
      "  --- GROUP: \"/logfiles\" ---\n",
      "  DIMENSIONS: \n",
      "  GROUP ATTRIBUTES: \n",
      "  VARIABLES: \n",
      "  VAR ATTRIBUTES: \n",
      "  SUB-GROUPS: \n",
      "\n",
      "  --- GROUP: \"/products\" ---\n",
      "  DIMENSIONS: \n",
      "  GROUP ATTRIBUTES: \n",
      "  VARIABLES: Lt (lines, samples, bands), \n",
      "  VAR ATTRIBUTES: \n",
      "\n",
      "  SUB-GROUPS: \n",
      "\n",
      "  --- GROUP: \"/metadata\" ---\n",
      "  DIMENSIONS: \n",
      "  GROUP ATTRIBUTES: \n",
      "  VARIABLES: \n",
      "  VAR ATTRIBUTES: \n",
      "  SUB-GROUPS: capture_config, timing, temperature, adcs, corrections, database, \n",
      "\n",
      "    --- GROUP: \"/metadata/capture_config\" ---\n",
      "    DIMENSIONS: \n",
      "    GROUP ATTRIBUTES: flags, camID, frame_count, exposure, fps, row_count, column_count, sample_div, bin_factor, aoi_x, aoi_y, gain, temp_log, format, \n",
      "    VARIABLES: file (), \n",
      "    VAR ATTRIBUTES: \n",
      "\n",
      "    SUB-GROUPS: \n",
      "\n",
      "    --- GROUP: \"/metadata/timing\" ---\n",
      "    DIMENSIONS: \n",
      "    GROUP ATTRIBUTES: capture_start_planned_unix, capture_start_unix, fully_downlinked_unix, time_processed_unix, \n",
      "    VARIABLES: bin_time (lines), timestamps (lines), timestamps_srv (lines), \n",
      "    VAR ATTRIBUTES: \n",
      "\n",
      "    SUB-GROUPS: \n",
      "\n",
      "    --- GROUP: \"/metadata/temperature\" ---\n",
      "    DIMENSIONS: \n",
      "    GROUP ATTRIBUTES: Long_Name, description, format, \n",
      "    VARIABLES: file (), \n",
      "    VAR ATTRIBUTES: \n",
      "\n",
      "    SUB-GROUPS: \n",
      "\n",
      "    --- GROUP: \"/metadata/adcs\" ---\n",
      "    DIMENSIONS: \n",
      "    GROUP ATTRIBUTES: Long_Name, description, format, \n",
      "    VARIABLES: timestamps (adcssamples), position_x (adcssamples), position_y (adcssamples), position_z (adcssamples), velocity_x (adcssamples), velocity_y (adcssamples), velocity_z (adcssamples), quaternion_s (adcssamples), quaternion_x (adcssamples), quaternion_y (adcssamples), quaternion_z (adcssamples), angular_velocity_x (adcssamples), angular_velocity_y (adcssamples), angular_velocity_z (adcssamples), st_quaternion_s (adcssamples), st_quaternion_x (adcssamples), st_quaternion_y (adcssamples), st_quaternion_z (adcssamples), control_error (adcssamples), \n",
      "    VAR ATTRIBUTES: \n",
      "\n",
      "    SUB-GROUPS: \n",
      "\n",
      "    --- GROUP: \"/metadata/corrections\" ---\n",
      "    DIMENSIONS: \n",
      "    GROUP ATTRIBUTES: Long_Name, description, format, \n",
      "    VARIABLES: rad_matrix (radrows, radcols), spec_coeffs (specrows), \n",
      "    VAR ATTRIBUTES: \n",
      "\n",
      "    SUB-GROUPS: \n",
      "\n",
      "    --- GROUP: \"/metadata/database\" ---\n",
      "    DIMENSIONS: \n",
      "    GROUP ATTRIBUTES: bufferID, database_file, database_version, timestamp, overexposed_spectra, overexposed_spectra_percentage, overexposed_samples, overexposed_samples_percentage, \n",
      "    VARIABLES: \n",
      "    VAR ATTRIBUTES: \n",
      "    SUB-GROUPS: \n",
      "\n"
     ]
    }
   ],
   "source": [
    "from hypso.utils import print_nc\n",
    "\n",
    "# Print Attributes and Groups of .nc file generated\n",
    "print_nc(nc_file=nc_file)"
   ]
  }
 ],
 "metadata": {
  "kernelspec": {
   "display_name": "Python 3",
   "language": "python",
   "name": "python3"
  },
  "language_info": {
   "codemirror_mode": {
    "name": "ipython",
    "version": 3
   },
   "file_extension": ".py",
   "mimetype": "text/x-python",
   "name": "python",
   "nbconvert_exporter": "python",
   "pygments_lexer": "ipython3",
   "version": "3.10.12"
  }
 },
 "nbformat": 4,
 "nbformat_minor": 5
}
