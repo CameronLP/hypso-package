{
 "cells": [
  {
   "cell_type": "code",
   "execution_count": null,
   "id": "75f25e73",
   "metadata": {},
   "outputs": [],
   "source": [
    "# first we'll run through with an example, two versions of OSP\n",
    "import numpy as np\n",
    "import matplotlib.pyplot as plt\n",
    "import scipy.ndimage as nd\n",
    "import time\n",
    "import importlib as il\n",
    "from scipy import interpolate\n",
    "import netCDF4 as c4"
   ]
  },
  {
   "cell_type": "code",
   "execution_count": null,
   "id": "75ad6190",
   "metadata": {},
   "outputs": [],
   "source": [
    "from hypso import download_nc_files\n",
    "from hypso import Satellite\n",
    "            \n",
    "download_nc_files(filename_list=[\"balaton_2023-10-03_0921Z-l1a.nc\"],\n",
    "                  output_dir=\"downl_dir\")"
   ]
  },
  {
   "cell_type": "code",
   "execution_count": null,
   "id": "b3e86d3d",
   "metadata": {},
   "outputs": [],
   "source": [
    "# Import Satellite Object\n",
    "from hypso import Satellite\n",
    "\n",
    "# Define HYPSO Image File and the .points from QGIS (if available)\n",
    "hypso_file_path=\"downl_dir/balaton_2023-10-03_0921Z-l1a.nc\"\n",
    "#points_path = \"/Users/alvaroflores/Documents/mjosa_2023-06-15_0948Z-rgba_8bit.tif.points\"\n",
    "\n",
    "# Create Satellite Object\n",
    "satobj = Satellite(hypso_file_path)"
   ]
  },
  {
   "cell_type": "code",
   "execution_count": null,
   "id": "8c0311f4",
   "metadata": {},
   "outputs": [],
   "source": [
    "data = satobj.l1b_cube\n",
    "height = data.shape[0]\n",
    "width = data.shape[1]\n",
    "bands = data.shape[2]\n",
    "print(\"Height: \", height, \" Width: \", width, \"Bands: \", bands)"
   ]
  },
  {
   "cell_type": "code",
   "execution_count": null,
   "id": "e3f57c19-d4d3-40a8-8051-9a90bfd6ca3d",
   "metadata": {},
   "outputs": [],
   "source": [
    "rgb = np.rot90(satobj.l1b_cube[:,:,[70,45,20]])\n",
    "for i in range(3):\n",
    "   rgb[:,:,i] -= rgb[:,:,i].min()\n",
    "plt.imshow(rgb/30, aspect=0.3)"
   ]
  },
  {
   "cell_type": "code",
   "execution_count": null,
   "id": "7b85b972",
   "metadata": {},
   "outputs": [],
   "source": [
    "# setting the path to where i've stored the dbn file"
   ]
  },
  {
   "cell_type": "code",
   "execution_count": null,
   "id": "5491115a",
   "metadata": {},
   "outputs": [],
   "source": [
    "#cd DimensionalityReduction/"
   ]
  },
  {
   "cell_type": "code",
   "execution_count": null,
   "id": "b60cda92",
   "metadata": {},
   "outputs": [],
   "source": [
    "import dbn as dbn"
   ]
  },
  {
   "cell_type": "code",
   "execution_count": null,
   "id": "324b551a",
   "metadata": {},
   "outputs": [],
   "source": [
    "aen = dbn.DBN(Verbose=True)"
   ]
  },
  {
   "cell_type": "code",
   "execution_count": null,
   "id": "67481d59",
   "metadata": {},
   "outputs": [],
   "source": [
    "start = time.time()\n",
    "aen.fit(data.reshape((-1,bands)))\n",
    "delta = time.time() - start"
   ]
  },
  {
   "cell_type": "code",
   "execution_count": null,
   "id": "b45730bc",
   "metadata": {},
   "outputs": [],
   "source": [
    "aent = aen.transform(data.reshape((-1,bands)))"
   ]
  },
  {
   "cell_type": "code",
   "execution_count": null,
   "id": "44b8ba85",
   "metadata": {},
   "outputs": [],
   "source": [
    "# display some of the transformed data\n",
    "fig, ax = plt.subplots(1,4)\n",
    "ax[0].imshow(aent[0].reshape((height, width)), aspect=3)\n",
    "ax[1].imshow(aent[2].reshape((height, width)), aspect=3)\n",
    "ax[2].imshow(aent[4].reshape((height, width)), aspect=3)\n",
    "ax[3].imshow(aent[11].reshape((height, width)), aspect=3)\n",
    "for a in ax:\n",
    "    a.set_xticks([])\n",
    "    a.set_yticks([])"
   ]
  },
  {
   "cell_type": "code",
   "execution_count": null,
   "id": "f037b17f",
   "metadata": {},
   "outputs": [],
   "source": [
    "aen_est = aen.inverse_transform(aent)"
   ]
  },
  {
   "cell_type": "code",
   "execution_count": null,
   "id": "501f59c3",
   "metadata": {},
   "outputs": [],
   "source": [
    "aen_est.shape"
   ]
  },
  {
   "cell_type": "code",
   "execution_count": null,
   "id": "2423afbf",
   "metadata": {},
   "outputs": [],
   "source": [
    "data.reshape((-1,bands))"
   ]
  },
  {
   "cell_type": "code",
   "execution_count": null,
   "id": "ef2aa24c",
   "metadata": {},
   "outputs": [],
   "source": [
    "aen_est"
   ]
  },
  {
   "cell_type": "code",
   "execution_count": null,
   "id": "c7e63e92",
   "metadata": {},
   "outputs": [],
   "source": [
    "# find the error\n",
    "err = np.sqrt(np.sum((data.reshape((-1,bands)) - aen_est)**2, axis=-1))\n",
    "\n",
    "# find the spectral angle between the reconstruction and the original pixel\n",
    "d_mag = np.sqrt(np.sum((np.float32(data.reshape((-1,bands))))**2, axis=-1))\n",
    "ae_mag = np.sqrt(np.sum((aen_est**2), axis=-1))\n",
    "sam = ((np.sum(np.multiply(data.reshape((-1,bands)), aen_est), axis=-1))/(d_mag*ae_mag))"
   ]
  },
  {
   "cell_type": "code",
   "execution_count": null,
   "id": "0e800fcf",
   "metadata": {},
   "outputs": [],
   "source": [
    "# show anamolous pixels based on error\n",
    "plt.imshow((err/d_mag).reshape((height, width)), interpolation='nearest', vmax=(err/d_mag).max()/5)\n",
    "plt.colorbar()"
   ]
  },
  {
   "cell_type": "code",
   "execution_count": null,
   "id": "aac5c241",
   "metadata": {},
   "outputs": [],
   "source": [
    "# show anamolous pixels based on SAM\n",
    "plt.imshow(np.arccos((sam)).reshape((height,width)), interpolation='nearest', vmax=sam.max()/10)\n",
    "plt.colorbar()"
   ]
  },
  {
   "cell_type": "code",
   "execution_count": null,
   "id": "18c3d258",
   "metadata": {},
   "outputs": [],
   "source": [
    "import dsw as dsw\n",
    "import time\n",
    "\n",
    "con = {}\n",
    "con['height'] = height\n",
    "con['width'] = width\n",
    "con['win_dif'] = 3\n",
    "con['win_size'] = 15 # MUST BE ODD\n",
    "con['code_size'] = 12\n",
    "#anomaly_scores = dsw.novel_dsw(con, err, np.transpose(aent))\n",
    "anomaly_scores_opt = dsw.opt_novel_dsw(con, err, np.transpose(aent))\n",
    "# Print the results\n",
    "#print(anomaly_scores)\n",
    "print(anomaly_scores_opt)\n"
   ]
  },
  {
   "cell_type": "code",
   "execution_count": null,
   "id": "0b8ecb49",
   "metadata": {},
   "outputs": [],
   "source": [
    "plt.imshow(anomaly_scores_opt, interpolation='nearest', vmax=anomaly_scores_opt.max()/40)\n",
    "plt.colorbar()\n",
    "#print(anomaly_scores_opt)"
   ]
  },
  {
   "cell_type": "code",
   "execution_count": null,
   "id": "f0017f73",
   "metadata": {},
   "outputs": [],
   "source": [
    "\n",
    "\n"
   ]
  },
  {
   "cell_type": "code",
   "execution_count": null,
   "id": "b0a95757",
   "metadata": {},
   "outputs": [],
   "source": []
  },
  {
   "cell_type": "code",
   "execution_count": null,
   "id": "46ae729e",
   "metadata": {},
   "outputs": [],
   "source": []
  },
  {
   "cell_type": "code",
   "execution_count": null,
   "id": "f04149b8",
   "metadata": {},
   "outputs": [],
   "source": []
  }
 ],
 "metadata": {
  "kernelspec": {
   "display_name": "Python 3 (ipykernel)",
   "language": "python",
   "name": "python3"
  },
  "language_info": {
   "codemirror_mode": {
    "name": "ipython",
    "version": 3
   },
   "file_extension": ".py",
   "mimetype": "text/x-python",
   "name": "python",
   "nbconvert_exporter": "python",
   "pygments_lexer": "ipython3",
   "version": "3.9.18"
  }
 },
 "nbformat": 4,
 "nbformat_minor": 5
}
